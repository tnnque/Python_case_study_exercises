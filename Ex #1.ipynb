{
 "cells": [
  {
   "cell_type": "markdown",
   "metadata": {},
   "source": [
    "[Bài toán giá đất]\n",
    "\n",
    "Ông A có nhu cầu mua nhà mặt tiền/phố tại Quận 9, TP.HCM với mục đích cho thuê mặt bằng kinh doanh. Ông A dự kiến kích thước căn nhà cần mua có chiều dài x rộng tương đương 10.33 x 5.2674 mét. Được biết giá nhà mặt tiền Quận 9 đang trong khoảng 87.5 triệu Đồng/m2.\n",
    "\n",
    "Xin Anh/Chị hãy cho biết:\n",
    "\n",
    "1. Số tiền dự tính mà ông A cần chuẩn bị để mua được mảnh đất mặt bằng như đã định. (đơn vị: triệu Đồng)\n",
    "\n",
    "2. Giả sử thu nhập từ việc cho thuê mặt bằng thu về hằng tháng bằng 45 triệu Đồng, trong thời gian bao lâu ông A có thể hoàn lại vốn mua nhà ban đầu? (đơn vị: năm)"
   ]
  },
  {
   "cell_type": "code",
   "execution_count": null,
   "metadata": {},
   "outputs": [],
   "source": [
    "# 1. Giá căn nhà dự án 1\n",
    "# Trước tiên, tạo 2 biến chứa chiều dài, rộng để tính diện tích đất cần mua.\n",
    "# Lưu ý: cần chuyển đổi dữ liệu nhập vào thành dạng \"float\" (số thực). Ví dụ: x = float(12.345).\n",
    "d =                #input\n",
    "r =                #input\n",
    "\n",
    "# Nhập công thức tính diện tích sử dụng 2 đối tượng d, r.\n",
    "# Yêu cầu phụ: Làm tròn diện tích tính được đến 2 chữ số thập phân, gợi ý: round(y, 2).\n",
    "S = d * r\n",
    "\n",
    "# Nhập công thức tính tiền mua nhà từ S và giá nhà đã cung cấp:\n",
    "price = S * ?               #input\n",
    "\n",
    "# In ra số tiền cần tìm:\n",
    "print(?)                    #input\n",
    "\n",
    "#==========\n",
    "\n",
    "# 2. Thời gian hoàn vốn:\n",
    "income = 45 # Nhập thu nhập hằng tháng cho dự án 1\n",
    "# Thời gian hoàn vốn tính theo tháng.\n",
    "\n",
    "time = ? / ?                #input\n",
    "\n",
    "# Chuyển đổi thời gian về đơn vị năm và sử dụng hàm int() để cho ra số năm là số nguyên.\n",
    "time = ?(? / 12)            #input"
   ]
  },
  {
   "cell_type": "markdown",
   "metadata": {},
   "source": [
    "Ngoài cho thuê mặt bằng, ông A còn dự định mua một căn nhà khác trong hẻm/ngõ để kinh doanh phòng trọ sinh viên. Ông A mong muốn hằng tháng thu về 30 triệu Đồng. Hiện tại nhà đất trong hẻm/ngõ ở Quận 9 đang có giá 56.7 triệu/m2, xin Anh/Chị cho biết:\n",
    "\n",
    "3. Nếu thời gian hoàn vốn dự tính là 12 năm, giá của căn nhà hẻm mà ông A đang định mua có giá là bao nhiêu? (đơn vị: triệu Đồng) Giả sử giá cho thuê không tăng theo thời gian.\n",
    "\n",
    "4. Ví dụ, cả 2 loại nhà ông A dự định mua kể trên đều có diện tích 50 mét vuông, để có cùng thời gian hồi vốn là 12 năm, mỗi tháng thu nhập từ dự án cho thuê mặt tiền có nhiều hơn 1.5 lần dự án thuê nhà trọ hay không? Nếu có, nhờ Anh/Chị in ra tỷ lệ chênh lệch giữa thu nhập vừa tính được của 2 căn nhà."
   ]
  },
  {
   "cell_type": "code",
   "execution_count": null,
   "metadata": {},
   "outputs": [],
   "source": [
    "# 3. Giá căn nhà dự án 2:\n",
    "income2 = 30 # Nhập thu nhập hằng tháng cho dự án \n",
    "# Đưa thời gian hoàn vốn dự tính của dự án 2 vào biến time2.\n",
    "# Lưu ý: cần chuyển đổi dữ liệu nhập vào từ năm thành tháng.\n",
    "time2 =                #input\n",
    "\n",
    "# Nhập công thức tính giá trị căn nhà từ time2, income2:\n",
    "price2 =               #input\n",
    "\n",
    "#==========\n",
    "\n",
    "# 4. So sánh thu nhập 2 dự án:\n",
    "S2 = 50 # Nhập vào biến S2 diện tích nhà 50m2\n",
    "\n",
    "# Nhập vào thời gian hồi vốn. Lưu ý: chuyển thời gian từ năm sang tháng.\n",
    "time3 =               #input\n",
    "\n",
    "# Lập công thức tính giá căn mặt tiền và căn nhà hẻm đưa vào biến price1_new, price2_new.\n",
    "price1_new = S * 87.5\n",
    "price2_new = ? * 56.7               #input\n",
    "\n",
    "# Tính thu nhập hằng tháng của từng căn\n",
    "income1_new = ? / time3             #input\n",
    "income2_new = ? / ?                 #input\n",
    "\n",
    "# Tính tỷ lệ thu nhập căn 1 trên thu nhập căn 2. Làm tròn diện tích tính được đến 2 chữ số thập phân.\n",
    "ratio = ?(? / ?, ?)                 #input\n",
    "\n",
    "# Dùng \"if\" để so sánh và thực hiện lệnh in thu nhập 2 căn (nếu thoả điều kiện tỷ lệ > 1.5)\n",
    "if ? > 1.5:                         #input\n",
    "    print(\"Thu nhập hằng tháng từ căn nhà 1 \", ?, \" lần thu nhận từ căn nhà 2\")       #input\n",
    "\n",
    "# Khi không nêu rõ điều kiện còn lại \"else\",\n",
    "# máy tự động hiểu không thực hiện điều gì thêm nếu điều kiện \"if\" không thoả."
   ]
  },
  {
   "cell_type": "markdown",
   "metadata": {},
   "source": [
    "Ngoài giá nhà mặt tiền và nhà hẻm/ngõ kể trên, giá mua căn hộ và giá đất nền Quận 9 lần lượt là 31 triệu/m2 và 36,8 triệu/m2.\n",
    "\n",
    "5. Anh/Chị thực hiện tạo 1 dictionary gồm các cặp [tên hình thức nhà đất]: [giá] như đã nêu.\n",
    "Đưa dictionary gán vào biến tên dist9. Đặt tên item tuỳ ý.\n",
    "\n",
    "6. Truy cập và in ra giá của đất nền trong dictionary vừa tạo.\n",
    "\n",
    "7. Giả sử trong 7 năm tới giá nhà mặt tiền gấp ba lần giá căn hộ hiện tại. Anh/Chị sửa lại giá nhà mặt tiền trong dictionary được tạo ở câu 5. theo mức giá mới và in ra toàn bộ dist9 để kiểm tra xem các phần tử đã được như mong muốn chưa."
   ]
  },
  {
   "cell_type": "code",
   "execution_count": null,
   "metadata": {},
   "outputs": [],
   "source": [
    "# 5. Nhập tên loại nhà đất, giá cả vào dictionary tên dist9:\n",
    "dist9 = {???}                         #input\n",
    "\n",
    "#==========\n",
    "\n",
    "# 6. Truy cập, in giá đất nền từ dist9, gọi tên item của đất nền đã đặt:\n",
    "print(dist9[\"?\"])                     #input\n",
    "\n",
    "#==========\n",
    "\n",
    "# 7. Sửa giá nhà mặt tiền sau 7 năm.\n",
    "# Tính giá nhà tiền sửa đổi bằng cách:\n",
    "# Lấy ra giá căn hộ trong dist9 hiện tại để nhân 3 rồi gán lại vào giá trị nhà mặt tiền.\n",
    "dist9[\"?\"] = ? * 3                    #input\n",
    "\n",
    "# In ra lại toàn bộ dist9 để đảm bảo dist9 đã được chỉnh sửa đúng\n",
    "print(?)                              #input"
   ]
  }
 ],
 "metadata": {
  "kernelspec": {
   "display_name": "Python 3",
   "language": "python",
   "name": "python3"
  },
  "language_info": {
   "codemirror_mode": {
    "name": "ipython",
    "version": 3
   },
   "file_extension": ".py",
   "mimetype": "text/x-python",
   "name": "python",
   "nbconvert_exporter": "python",
   "pygments_lexer": "ipython3",
   "version": "3.6.7"
  }
 },
 "nbformat": 4,
 "nbformat_minor": 4
}
